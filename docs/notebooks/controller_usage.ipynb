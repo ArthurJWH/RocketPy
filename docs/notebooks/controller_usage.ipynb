{
 "cells": [
  {
   "cell_type": "markdown",
   "metadata": {},
   "source": [
    "# Controller Usage"
   ]
  },
  {
   "cell_type": "markdown",
   "metadata": {},
   "source": [
    "Here we go through a rocket trajectory simulation with canards and roll control. To use controllers and canards, a few things must be added to the simulation.\n",
    "\n",
    "Let's start by importing the rocketpy module and other necessary modules."
   ]
  },
  {
   "cell_type": "code",
   "execution_count": null,
   "metadata": {},
   "outputs": [],
   "source": [
    "from rocketpy import Environment, SolidMotor, Rocket, Flight, Function\n",
    "from simple_pid import *\n",
    "import numpy as np\n"
   ]
  },
  {
   "cell_type": "markdown",
   "metadata": {},
   "source": [
    "If you are using Jupyter Notebooks, it is recommended to run the following line to make matplotlib plots which will be shown later interactive and higher quality."
   ]
  },
  {
   "cell_type": "code",
   "execution_count": null,
   "metadata": {},
   "outputs": [],
   "source": [
    "%matplotlib widget"
   ]
  },
  {
   "cell_type": "markdown",
   "metadata": {},
   "source": [
    "### Creating a simple Environment"
   ]
  },
  {
   "cell_type": "code",
   "execution_count": null,
   "metadata": {},
   "outputs": [],
   "source": [
    "Env = Environment(\n",
    "    latitude=32.990254, longitude=-106.974998, elevation=1400\n",
    ")\n",
    "\n",
    "Env.set_atmospheric_model(type=\"custom_atmosphere\")"
   ]
  },
  {
   "cell_type": "code",
   "execution_count": null,
   "metadata": {},
   "outputs": [],
   "source": [
    "Env.info()"
   ]
  },
  {
   "cell_type": "markdown",
   "metadata": {},
   "source": [
    "### Creating a Motor"
   ]
  },
  {
   "cell_type": "code",
   "execution_count": null,
   "metadata": {},
   "outputs": [],
   "source": [
    "Pro75M1670 = SolidMotor(\n",
    "    thrust_source=\"../../data/motors/Cesaroni_M1670.eng\",\n",
    "    dry_mass=1.815,\n",
    "    dry_inertia=(0.125, 0.125, 0.002),\n",
    "    center_of_dry_mass=0.317,\n",
    "    grains_center_of_mass_position=0.397,\n",
    "    burn_time=3.9,\n",
    "    grain_number=5,\n",
    "    grain_separation=5 / 1000,\n",
    "    grain_density=1815,\n",
    "    grain_outer_radius=33 / 1000,\n",
    "    grain_initial_inner_radius=15 / 1000,\n",
    "    grain_initial_height=120 / 1000,\n",
    "    nozzle_radius=33 / 1000,\n",
    "    throat_radius=11 / 1000,\n",
    "    interpolation_method=\"linear\",\n",
    "    nozzle_position=0,\n",
    "    coordinate_system_orientation=\"nozzle_to_combustion_chamber\",\n",
    ")"
   ]
  },
  {
   "cell_type": "code",
   "execution_count": null,
   "metadata": {},
   "outputs": [],
   "source": [
    "Pro75M1670.info()"
   ]
  },
  {
   "cell_type": "markdown",
   "metadata": {},
   "source": [
    "### Creating a Rocket"
   ]
  },
  {
   "cell_type": "code",
   "execution_count": null,
   "metadata": {},
   "outputs": [],
   "source": [
    "calisto = Rocket(\n",
    "    radius=127 / 2000,\n",
    "    mass=19.197 - 2.956 - 1.815,\n",
    "    inertia=(6.321, 6.321, 0.034),\n",
    "    power_off_drag=\"../../data/calisto/powerOffDragCurve.csv\",\n",
    "    power_on_drag=\"../../data/calisto/powerOnDragCurve.csv\",\n",
    "    center_of_mass_without_motor=0,\n",
    "    coordinate_system_orientation=\"tail_to_nose\",\n",
    ")\n",
    "\n",
    "rail_buttons = calisto.set_rail_buttons(\n",
    "    upper_button_position=0.2 - 0.1182359460624346,\n",
    "    lower_button_position=-0.5 - 0.1182359460624346,\n",
    "    angular_position=45,\n",
    ")"
   ]
  },
  {
   "cell_type": "markdown",
   "metadata": {},
   "source": [
    "#### Adding Aerodynamic Surfaces"
   ]
  },
  {
   "cell_type": "markdown",
   "metadata": {},
   "source": [
    "Now we define the aerodynamic surfaces. \n",
    "It is important to define the canards as shown bellow so their cant angle can be changed during the simulation"
   ]
  },
  {
   "cell_type": "code",
   "execution_count": null,
   "metadata": {},
   "outputs": [],
   "source": [
    "calisto.add_motor(Pro75M1670, position=-1.255)\n",
    "\n",
    "NoseCone = calisto.add_nose(\n",
    "    length=0.55829, kind=\"vonKarman\", position=0.71971 + 0.55829\n",
    ")\n",
    "\n",
    "fin_set = calisto.add_trapezoidal_fins(\n",
    "    n=4,\n",
    "    root_chord=0.130,\n",
    "    tip_chord=0.080,\n",
    "    span=0.130,\n",
    "    position=-1.04956,\n",
    "    cant_angle=0.5,\n",
    "    radius=None,\n",
    "    airfoil=None,\n",
    ")\n",
    "\n",
    "calisto.canards = calisto.add_trapezoidal_fins(\n",
    "    2, span=0.07, root_chord=0.07, tip_chord=0.07, position=0.7, cant_angle=0, name=\"Canards\"\n",
    ")\n",
    "\n",
    "Tail = calisto.add_tail(\n",
    "    top_radius=0.0635, bottom_radius=0.0435, length=0.060, position=-1.194656\n",
    ")"
   ]
  },
  {
   "cell_type": "markdown",
   "metadata": {},
   "source": [
    "Always important to check the static margin to guarantee that the rocket is stable."
   ]
  },
  {
   "cell_type": "code",
   "execution_count": null,
   "metadata": {},
   "outputs": [],
   "source": [
    "calisto.static_margin()"
   ]
  },
  {
   "cell_type": "markdown",
   "metadata": {},
   "source": [
    "### Defining controller\n",
    "\n",
    "Here we add the controller to the rocket. Much like adding parachutes, the method call\n",
    "`Calisto.addControllers` requires a function that defines what the controller will do during flight\n",
    "\n",
    "In this case, the controller function uses a PID to calculate the cant angle of the \n",
    "canards given the roll speed of the rocket (omega3). It activates only after the motor burn out.\n",
    "\n",
    "Here there are a few global variables used for checking how the cantAngle and omega3 behaved during the flight simulation"
   ]
  },
  {
   "cell_type": "code",
   "execution_count": null,
   "metadata": {},
   "outputs": [],
   "source": [
    "#TODO: better way to save cantAngleList and omegaList\n",
    "\n",
    "cantAngleList = []\n",
    "omegaList = []\n",
    "\n",
    "# defines PID controller\n",
    "pid = PID(\n",
    "    Kp=0.015,\n",
    "    Ki=0.0315,\n",
    "    Kd=0.000,\n",
    "    sample_time=None,\n",
    "    output_limits=(-np.radians(8), np.radians(8)),\n",
    ")\n",
    "\n",
    "# TODO: make controller attributes accessible in the controllerFunction\n",
    "\n",
    "def controllerFunction(flightClassInstance):\n",
    "    global cantAngleList\n",
    "    global omegaList\n",
    "    global pid\n",
    "\n",
    "    rocket = flightClassInstance.rocket\n",
    "    omega3 = flightClassInstance.y_sol[-1]\n",
    "    time = flightClassInstance.t\n",
    "    servo_speed = 60/0.8 # degrees per second\n",
    "\n",
    "    # Checks if the motor has fineshed burning\n",
    "    if time < rocket.motor.burn_out_time:\n",
    "        return\n",
    "\n",
    "    # PID controller receives omega and returns delta\n",
    "    cantAngleRad = pid(omega3, dt=1 / 100) \n",
    "\n",
    "    cantAngle = cantAngleRad*180/np.pi\n",
    "\n",
    "    rocket.canards = rocket.changeCantAngle(cantAngle, rocket.canards)\n",
    "    cantAngleList.append([time, cantAngle])\n",
    "    omegaList.append([time, omega3])\n",
    "\n",
    "    \n",
    "# Clear controller list so that this cell can be rerun without rerunning the Rocket class\n",
    "# cells above.\n",
    "calisto.controllers = []\n",
    "    \n",
    "calisto.addController(name='CanardPID', controllerFunction=controllerFunction, samplingRate=100, lag=0)"
   ]
  },
  {
   "cell_type": "markdown",
   "metadata": {},
   "source": [
    "The last"
   ]
  },
  {
   "cell_type": "code",
   "execution_count": null,
   "metadata": {},
   "outputs": [],
   "source": [
    "# cantAngleList = []\n",
    "# omegaList = []\n",
    "\n",
    "# # defines PID controller\n",
    "# pid = PID(\n",
    "#     Kp=0.015,\n",
    "#     Ki=0.0315,\n",
    "#     Kd=0.000,\n",
    "#     sample_time=None,\n",
    "#     output_limits=(-np.radians(8), np.radians(8)),\n",
    "# )\n",
    "\n",
    "# # TODO: make controller attributes accessible in the controllerFunction\n",
    "\n",
    "# def controllerFunction(flightClassInstance):\n",
    "#     global cantAngleList\n",
    "#     global omegaList\n",
    "#     global pid\n",
    "\n",
    "#     rocket = flightClassInstance.rocket\n",
    "#     omega3 = flightClassInstance.y[-1]\n",
    "#     time = flightClassInstance.t\n",
    "#     servo_speed = 60/0.8 # degrees per second\n",
    "\n",
    "#     # Checks if the motor has fineshed burning\n",
    "#     if time < rocket.motor.burnOutTime:\n",
    "#         return\n",
    "\n",
    "#     # PID controller receives omega and returns delta\n",
    "#     cantAngleRad = pid(omega3, dt=1 / 100) \n",
    "\n",
    "#     cantAngle = cantAngleRad*180/np.pi\n",
    "\n",
    "#     maximumCantAngleChange = servo_speed*1/100 # degrees per second\n",
    "\n",
    "#     rocket.canards = rocket.changeCantAngle(cantAngle, rocket.canards, maximumCantAngleChange)\n",
    "#     cantAngleList.append([time, cantAngle])\n",
    "#     omegaList.append([time, omega3])\n",
    "\n",
    "    \n",
    "\n",
    "\n",
    "# # Clear controller list so that this cell can be rerun without rerunning the Rocket class\n",
    "# # cells above.\n",
    "# Calisto.controllers = []\n",
    "    \n",
    "# Calisto.addController(name='CanardPID', controllerFunction=controllerFunction, samplingRate=100, lag=0)"
   ]
  },
  {
   "cell_type": "markdown",
   "metadata": {},
   "source": [
    "## Simulating a Flight\n",
    "\n",
    "We can then simulate the flight and check the relevant information"
   ]
  },
  {
   "cell_type": "code",
   "execution_count": null,
   "metadata": {},
   "outputs": [],
   "source": [
    "TestFlight = Flight(rocket=calisto, environment=Env, rail_length=5.2, inclination=85, heading=0, time_overshoot=False, terminate_on_apogee=True, equations_of_motion=\"solid_propulsion\")"
   ]
  },
  {
   "cell_type": "code",
   "execution_count": null,
   "metadata": {},
   "outputs": [],
   "source": [
    "Function(cantAngleList,'time','cant Angle',interpolation='linear')()\n",
    "Function(omegaList,'time','omega',interpolation='linear')()"
   ]
  },
  {
   "cell_type": "code",
   "execution_count": null,
   "metadata": {
    "scrolled": false
   },
   "outputs": [],
   "source": [
    "TestFlight.info()"
   ]
  },
  {
   "cell_type": "code",
   "execution_count": null,
   "metadata": {},
   "outputs": [],
   "source": [
    "TestFlight.plots.all()"
   ]
  },
  {
   "cell_type": "code",
   "execution_count": null,
   "metadata": {},
   "outputs": [],
   "source": []
  }
 ],
 "metadata": {
  "hide_input": false,
  "kernelspec": {
   "display_name": "Python 3.10.5 64-bit",
   "language": "python",
   "name": "python3"
  },
  "language_info": {
   "codemirror_mode": {
    "name": "ipython",
    "version": 3
   },
   "file_extension": ".py",
   "mimetype": "text/x-python",
   "name": "python",
   "nbconvert_exporter": "python",
   "pygments_lexer": "ipython3",
   "version": "3.10.5"
  },
  "vscode": {
   "interpreter": {
    "hash": "26de051ba29f2982a8de78e945f0abaf191376122a1563185a90213a26c5da77"
   }
  }
 },
 "nbformat": 4,
 "nbformat_minor": 2
}
