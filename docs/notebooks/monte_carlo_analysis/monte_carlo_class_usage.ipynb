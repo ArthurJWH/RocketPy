{
 "cells": [
  {
   "attachments": {},
   "cell_type": "markdown",
   "metadata": {},
   "source": [
    "# Monte Carlo class usage"
   ]
  },
  {
   "attachments": {},
   "cell_type": "markdown",
   "metadata": {},
   "source": [
    "Finally the Monte Carlo simulations can be performed using a dedicated class called `MonteCarlo`.\n",
    "Say goodbye to the long and tedious process of creating the Monte Carlo Simulations throughout jupyter notebooks.\n"
   ]
  },
  {
   "cell_type": "code",
   "execution_count": null,
   "metadata": {},
   "outputs": [],
   "source": [
    "# We import these lines for debugging purposes, only works on Jupyter Notebook\n",
    "%load_ext autoreload\n",
    "%autoreload 2"
   ]
  },
  {
   "attachments": {},
   "cell_type": "markdown",
   "metadata": {},
   "source": [
    "First, let's import the necessary libraries, including the newest `MonteCarlo` class!\n"
   ]
  },
  {
   "cell_type": "code",
   "execution_count": null,
   "metadata": {},
   "outputs": [],
   "source": [
    "from rocketpy import Environment, SolidMotor, Rocket, Flight, MonteCarlo, Function\n",
    "from rocketpy.stochastic import (\n",
    "    StochasticEnvironment,\n",
    "    StochasticSolidMotor,\n",
    "    StochasticRocket,\n",
    "    StochasticFlight,\n",
    "    StochasticNoseCone,\n",
    "    StochasticTail,\n",
    "    StochasticTrapezoidalFins,\n",
    "    StochasticParachute,\n",
    "    StochasticRailButtons,\n",
    ")\n",
    "import datetime"
   ]
  },
  {
   "attachments": {},
   "cell_type": "markdown",
   "metadata": {},
   "source": [
    "If you are using Jupyter Notebooks, it is recommended to run the following line to make matplotlib plots which will be shown later interactive and higher quality.\n"
   ]
  },
  {
   "cell_type": "code",
   "execution_count": null,
   "metadata": {},
   "outputs": [],
   "source": [
    "%matplotlib inline"
   ]
  },
  {
   "attachments": {},
   "cell_type": "markdown",
   "metadata": {},
   "source": [
    "The `MonteCarlo` class allows to perform Monte Carlo simulations in a very simple way.\n",
    "We just need to create an instance of the class, and then call the method `simulate()` to perform the simulations.\n",
    "\n",
    "The class has a lot of capabilities, we try to over as much as possible in this example.\n",
    "We encourage you to check the documentation of the class to learn more about it.\n",
    "\n",
    "Additionally, you can check RocketPy's main reference for a better conceptual understanding\n",
    "of the Monte Carlo Simulations: [RocketPy: Six Degree-of-Freedom Rocket Trajectory Simulator](<https://doi.org/10.1061/(ASCE)AS.1943-5525.0001331>)"
   ]
  },
  {
   "attachments": {},
   "cell_type": "markdown",
   "metadata": {},
   "source": [
    "## Step 1: Creating the Inputs for the Simulations\n"
   ]
  },
  {
   "cell_type": "markdown",
   "metadata": {},
   "source": [
    "We will define rocketpy objects (e.g. Environment, SolidMotor, etc.) and use them to create the Monte Carlo simulation loop."
   ]
  },
  {
   "attachments": {},
   "cell_type": "markdown",
   "metadata": {},
   "source": [
    "### Environment\n"
   ]
  },
  {
   "cell_type": "markdown",
   "metadata": {},
   "source": [
    "Let's start by creating an Environment object, which will describe the atmospheric conditions for our launch site."
   ]
  },
  {
   "cell_type": "code",
   "execution_count": null,
   "metadata": {},
   "outputs": [],
   "source": [
    "env = Environment(latitude=39.389700, longitude=-8.288964, elevation=113)\n",
    "\n",
    "tomorrow = datetime.date.today() + datetime.timedelta(days=1)\n",
    "\n",
    "env.set_date((tomorrow.year, tomorrow.month, tomorrow.day, 12))"
   ]
  },
  {
   "cell_type": "markdown",
   "metadata": {},
   "source": [
    "As of the Atmospheric model, We will use an Ensemble model to a more accurate wind representation.\n",
    "The Ensemble forecast is a different kind of forecast that uses multiple runs of the same model with slightly different initial conditions to represent the uncertainty in the forecast."
   ]
  },
  {
   "cell_type": "code",
   "execution_count": null,
   "metadata": {},
   "outputs": [],
   "source": [
    "env.set_atmospheric_model(type=\"Ensemble\", file=\"GEFS\")"
   ]
  },
  {
   "cell_type": "markdown",
   "metadata": {},
   "source": [
    "For each rocketpy object, we will create a Stochastic object that works as an extension of the initial model, allow us to define what are the uncertainties of each input parameter."
   ]
  },
  {
   "cell_type": "code",
   "execution_count": null,
   "metadata": {},
   "outputs": [],
   "source": [
    "mc_env = StochasticEnvironment(\n",
    "    environment=env,\n",
    "    ensemble_member=list(range(env.num_ensemble_members)),\n",
    "    wind_velocity_x_factor=(1.0, 0.33, \"normal\"),\n",
    "    wind_velocity_y_factor=(1.0, 0.33, \"normal\"),\n",
    ")\n",
    "\n",
    "mc_env"
   ]
  },
  {
   "cell_type": "markdown",
   "metadata": {},
   "source": [
    "In the example above, the"
   ]
  },
  {
   "cell_type": "markdown",
   "metadata": {},
   "source": [
    "We can use the "
   ]
  },
  {
   "cell_type": "code",
   "execution_count": null,
   "metadata": {},
   "outputs": [],
   "source": [
    "wind_x_at_1000m = []\n",
    "for i in range(10):\n",
    "    rnd_env = mc_env.create_object()\n",
    "    wind_x_at_1000m.append(rnd_env.wind_velocity_x(1000))\n",
    "\n",
    "print(wind_x_at_1000m)"
   ]
  },
  {
   "attachments": {},
   "cell_type": "markdown",
   "metadata": {},
   "source": [
    "### Motor\n"
   ]
  },
  {
   "attachments": {},
   "cell_type": "markdown",
   "metadata": {},
   "source": [
    "Let's define the motor using the firs method. We will be using the data from the manufacturer, and following\n",
    "the [RocketPy's documentation](https://docs.rocketpy.org/en/latest/user/index.html).\n"
   ]
  },
  {
   "cell_type": "code",
   "execution_count": null,
   "metadata": {},
   "outputs": [],
   "source": [
    "motor = SolidMotor(\n",
    "    thrust_source=\"../../../data/motors/Cesaroni_M1670.eng\",\n",
    "    dry_mass=1.815,\n",
    "    dry_inertia=(0.125, 0.125, 0.002),\n",
    "    nozzle_radius=33 / 1000,\n",
    "    grain_number=5,\n",
    "    grain_density=1815,\n",
    "    grain_outer_radius=33 / 1000,\n",
    "    grain_initial_inner_radius=15 / 1000,\n",
    "    grain_initial_height=120 / 1000,\n",
    "    grain_separation=5 / 1000,\n",
    "    grains_center_of_mass_position=0.397,\n",
    "    center_of_dry_mass_position=0.317,\n",
    "    nozzle_position=0,\n",
    "    burn_time=3.9,\n",
    "    throat_radius=11 / 1000,\n",
    "    coordinate_system_orientation=\"nozzle_to_combustion_chamber\",\n",
    ")\n",
    "motor.total_impulse"
   ]
  },
  {
   "cell_type": "code",
   "execution_count": null,
   "metadata": {},
   "outputs": [],
   "source": [
    "mc_motor = StochasticSolidMotor(\n",
    "    solid_motor=motor,\n",
    "    thrust_source=[\n",
    "        \"../../../data/motors/Cesaroni_M1670.eng\",\n",
    "        [[0, 6000], [1, 6000], [2, 6000], [3, 6000], [4, 6000]],\n",
    "        Function([[0, 6000], [1, 6000], [2, 6000], [3, 6000], [4, 6000]]),\n",
    "    ],\n",
    "    burn_start_time=(0, 0.1),\n",
    "    grains_center_of_mass_position=0.001,\n",
    "    grain_density=50,\n",
    "    grain_separation=1 / 1000,\n",
    "    grain_initial_height=1 / 1000,\n",
    "    grain_initial_inner_radius=0.375 / 1000,\n",
    "    grain_outer_radius=0.375 / 1000,\n",
    "    total_impulse=(6500, 1000),\n",
    "    throat_radius=0.5 / 1000,\n",
    "    nozzle_radius=0.5 / 1000,\n",
    "    nozzle_position=0.001,\n",
    ")\n",
    "mc_motor"
   ]
  },
  {
   "cell_type": "code",
   "execution_count": null,
   "metadata": {},
   "outputs": [],
   "source": [
    "total_impulse = []\n",
    "for i in range(10):\n",
    "    rnd_motor = mc_motor.create_object()\n",
    "    total_impulse.append(rnd_motor.total_impulse)\n",
    "\n",
    "print(total_impulse)"
   ]
  },
  {
   "attachments": {},
   "cell_type": "markdown",
   "metadata": {},
   "source": [
    "### Rocket\n"
   ]
  },
  {
   "cell_type": "code",
   "execution_count": null,
   "metadata": {},
   "outputs": [],
   "source": [
    "rocket = Rocket(\n",
    "    radius=127 / 2000,\n",
    "    mass=14.426,\n",
    "    inertia=(6.321, 6.321, 0.034),\n",
    "    power_off_drag=\"../../../data/calisto/powerOffDragCurve.csv\",\n",
    "    power_on_drag=\"../../../data/calisto/powerOnDragCurve.csv\",\n",
    "    center_of_mass_without_motor=0,\n",
    "    coordinate_system_orientation=\"tail_to_nose\",\n",
    ")\n",
    "\n",
    "rail_buttons = rocket.set_rail_buttons(\n",
    "    upper_button_position=0.0818,\n",
    "    lower_button_position=-0.618,\n",
    "    angular_position=45,\n",
    ")\n",
    "\n",
    "rocket.add_motor(motor, position=-1.255)\n",
    "\n",
    "nose_cone = rocket.add_nose(length=0.55829, kind=\"vonKarman\", position=1.278)\n",
    "\n",
    "fin_set = rocket.add_trapezoidal_fins(\n",
    "    n=4,\n",
    "    root_chord=0.120,\n",
    "    tip_chord=0.060,\n",
    "    span=0.110,\n",
    "    position=-1.04956,\n",
    "    cant_angle=0.5,\n",
    "    airfoil=(\"../../../data/calisto/NACA0012-radians.csv\", \"radians\"),\n",
    ")\n",
    "\n",
    "tail = rocket.add_tail(\n",
    "    top_radius=0.0635, bottom_radius=0.0435, length=0.060, position=-1.194656\n",
    ")"
   ]
  },
  {
   "attachments": {},
   "cell_type": "markdown",
   "metadata": {},
   "source": [
    "Additionally, we set parachutes for our Rocket, as well as the trigger functions for the deployment of such parachutes.\n"
   ]
  },
  {
   "cell_type": "code",
   "execution_count": null,
   "metadata": {},
   "outputs": [],
   "source": [
    "Main = rocket.add_parachute(\n",
    "    \"Main\",\n",
    "    cd_s=10.0,\n",
    "    trigger=800,\n",
    "    sampling_rate=105,\n",
    "    lag=1.5,\n",
    "    noise=(0, 8.3, 0.5),\n",
    ")\n",
    "\n",
    "Drogue = rocket.add_parachute(\n",
    "    \"Drogue\",\n",
    "    cd_s=1.0,\n",
    "    trigger=\"apogee\",\n",
    "    sampling_rate=105,\n",
    "    lag=1.5,\n",
    "    noise=(0, 8.3, 0.5),\n",
    ")"
   ]
  },
  {
   "cell_type": "code",
   "execution_count": null,
   "metadata": {},
   "outputs": [],
   "source": [
    "mc_rocket = StochasticRocket(\n",
    "    rocket=rocket,\n",
    "    radius=0.0127 / 2000,\n",
    "    mass=(15.426, 0.5, \"normal\"),\n",
    "    inertia_11=(6.321, 0),\n",
    "    inertia_22=0.01,\n",
    "    inertia_33=0.01,\n",
    "    center_of_mass_without_motor=0,\n",
    ")\n",
    "mc_rocket"
   ]
  },
  {
   "cell_type": "code",
   "execution_count": null,
   "metadata": {},
   "outputs": [],
   "source": [
    "mc_nose_cone = StochasticNoseCone(\n",
    "    nosecone=nose_cone,\n",
    "    length=0.001,\n",
    ")\n",
    "\n",
    "mc_fin_set = StochasticTrapezoidalFins(\n",
    "    trapezoidal_fins=fin_set,\n",
    "    root_chord=0.0005,\n",
    "    tip_chord=0.0005,\n",
    "    span=0.0005,\n",
    ")\n",
    "\n",
    "mc_tail = StochasticTail(\n",
    "    tail=tail,\n",
    "    top_radius=0.001,\n",
    "    bottom_radius=0.001,\n",
    "    length=0.001,\n",
    ")\n",
    "\n",
    "mc_rail_buttons = StochasticRailButtons(\n",
    "    rail_buttons=rail_buttons, buttons_distance=0.001\n",
    ")\n",
    "\n",
    "mc_main = StochasticParachute(\n",
    "    parachute=Main,\n",
    "    cd_s=0.1,\n",
    "    lag=0.1,\n",
    ")\n",
    "\n",
    "mc_drogue = StochasticParachute(\n",
    "    parachute=Drogue,\n",
    "    cd_s=0.07,\n",
    "    lag=0.2,\n",
    ")"
   ]
  },
  {
   "cell_type": "code",
   "execution_count": null,
   "metadata": {},
   "outputs": [],
   "source": [
    "mc_rocket.add_motor(mc_motor, position=0.001)\n",
    "mc_rocket.add_nose(mc_nose_cone, position=(1.134, 0.001))\n",
    "mc_rocket.add_trapezoidal_fins(mc_fin_set, position=(0.001, \"normal\"))\n",
    "mc_rocket.add_tail(mc_tail)\n",
    "mc_rocket.set_rail_buttons(mc_rail_buttons, lower_button_position=(0.001, \"normal\"))\n",
    "mc_rocket.add_parachute(mc_main)\n",
    "mc_rocket.add_parachute(mc_drogue)"
   ]
  },
  {
   "cell_type": "code",
   "execution_count": null,
   "metadata": {},
   "outputs": [],
   "source": [
    "mc_rocket"
   ]
  },
  {
   "cell_type": "code",
   "execution_count": null,
   "metadata": {},
   "outputs": [],
   "source": [
    "mc_rocket.last_rnd_dict"
   ]
  },
  {
   "cell_type": "code",
   "execution_count": null,
   "metadata": {},
   "outputs": [],
   "source": [
    "for i in range(10):\n",
    "    rnd_rocket = mc_rocket.create_object()\n",
    "    print(rnd_rocket.static_margin(0))"
   ]
  },
  {
   "attachments": {},
   "cell_type": "markdown",
   "metadata": {},
   "source": [
    "\n",
    "### Flight\n"
   ]
  },
  {
   "cell_type": "code",
   "execution_count": null,
   "metadata": {},
   "outputs": [],
   "source": [
    "test_flight = Flight(\n",
    "    rocket=rocket,\n",
    "    environment=env,\n",
    "    rail_length=5,\n",
    "    inclination=84,\n",
    "    heading=133,\n",
    ")"
   ]
  },
  {
   "cell_type": "code",
   "execution_count": null,
   "metadata": {},
   "outputs": [],
   "source": [
    "mc_flight = StochasticFlight(\n",
    "    flight=test_flight,\n",
    "    inclination=(84.7, 1),\n",
    "    heading=(53, 2),\n",
    ")\n",
    "mc_flight"
   ]
  },
  {
   "attachments": {},
   "cell_type": "markdown",
   "metadata": {},
   "source": [
    "And we can visualize the flight trajectory:\n"
   ]
  },
  {
   "cell_type": "code",
   "execution_count": null,
   "metadata": {},
   "outputs": [],
   "source": [
    "test_flight.plots.trajectory_3d()"
   ]
  },
  {
   "attachments": {},
   "cell_type": "markdown",
   "metadata": {},
   "source": [
    "### Step 2: Starting the Monte Carlo Simulations\n"
   ]
  },
  {
   "attachments": {},
   "cell_type": "markdown",
   "metadata": {},
   "source": [
    "First, let's invoke the `MonteCarlo` class, we only need a filename to initialize it.\n",
    "The filename will be used either to save the results of the simulations or to load them\n",
    "from a previous ran simulation.\n"
   ]
  },
  {
   "cell_type": "code",
   "execution_count": null,
   "metadata": {},
   "outputs": [],
   "source": [
    "test_dispersion = MonteCarlo(\n",
    "    filename=\"monte_carlo_analysis_outputs/monte_carlo_class_example\",\n",
    "    environment=mc_env,\n",
    "    rocket=mc_rocket,\n",
    "    flight=mc_flight,\n",
    ")\n",
    "\n",
    "# TODO: add custom warning o when the rocket doesn't have a motors, parachute, or AeroSurface"
   ]
  },
  {
   "attachments": {},
   "cell_type": "markdown",
   "metadata": {},
   "source": [
    "Then, we can run the simulations using the method `MonteCarlo.simulate()`.\n",
    "But before that, we need to set some simple parameters for the simulations.\n",
    "We will set them by using a dictionary, which is one of the simplest way to do it.\n"
   ]
  },
  {
   "attachments": {},
   "cell_type": "markdown",
   "metadata": {},
   "source": [
    "Finally, let's iterate over the simulations and export the data from each flight simulation!\n"
   ]
  },
  {
   "cell_type": "code",
   "execution_count": null,
   "metadata": {},
   "outputs": [],
   "source": [
    "test_dispersion.simulate(\n",
    "    number_of_simulations=1000,\n",
    "    append=False,\n",
    "    light_mode=True,\n",
    "    parallel=True,\n",
    "    n_workers=None,\n",
    ")"
   ]
  },
  {
   "attachments": {},
   "cell_type": "markdown",
   "metadata": {},
   "source": [
    "### Visualizing the results\n"
   ]
  },
  {
   "attachments": {},
   "cell_type": "markdown",
   "metadata": {},
   "source": [
    "Now we finally have the results of our Monte Carlo simulations loaded!\n",
    "Let's play with them.\n"
   ]
  },
  {
   "attachments": {},
   "cell_type": "markdown",
   "metadata": {},
   "source": [
    "First, we can print numerical information regarding the results of the simulations.\n"
   ]
  },
  {
   "cell_type": "code",
   "execution_count": null,
   "metadata": {},
   "outputs": [],
   "source": [
    "# only need to import results if you did not run the simulations\n",
    "# test_dispersion.import_results()"
   ]
  },
  {
   "cell_type": "code",
   "execution_count": null,
   "metadata": {},
   "outputs": [],
   "source": [
    "test_dispersion.num_of_loaded_sims"
   ]
  },
  {
   "cell_type": "code",
   "execution_count": null,
   "metadata": {},
   "outputs": [],
   "source": [
    "test_dispersion.prints.all()"
   ]
  },
  {
   "attachments": {},
   "cell_type": "markdown",
   "metadata": {},
   "source": [
    "Secondly, we can plot the results of the simulations.\n"
   ]
  },
  {
   "cell_type": "code",
   "execution_count": null,
   "metadata": {},
   "outputs": [],
   "source": [
    "test_dispersion.plots.ellipses(xlim=(-200, 3500), ylim=(-200, 3500))"
   ]
  },
  {
   "cell_type": "code",
   "execution_count": null,
   "metadata": {},
   "outputs": [],
   "source": [
    "test_dispersion.plots.all()"
   ]
  },
  {
   "attachments": {},
   "cell_type": "markdown",
   "metadata": {},
   "source": [
    "Finally, one may also export to kml so it can be visualized in Google Earth\n"
   ]
  },
  {
   "cell_type": "code",
   "execution_count": null,
   "metadata": {},
   "outputs": [],
   "source": [
    "test_dispersion.export_ellipses_to_kml(\n",
    "    filename=\"monte_carlo_analysis_outputs/monte_carlo_class_example.kml\",\n",
    "    origin_lat=env.latitude,\n",
    "    origin_lon=env.longitude,\n",
    "    type=\"impact\",\n",
    ")"
   ]
  }
 ],
 "metadata": {
  "hide_input": false,
  "kernelspec": {
   "display_name": "Python 3.10.5 64-bit",
   "language": "python",
   "name": "python3"
  },
  "language_info": {
   "codemirror_mode": {
    "name": "ipython",
    "version": 3
   },
   "file_extension": ".py",
   "mimetype": "text/x-python",
   "name": "python",
   "nbconvert_exporter": "python",
   "pygments_lexer": "ipython3",
   "version": "3.10.12"
  },
  "vscode": {
   "interpreter": {
    "hash": "26de051ba29f2982a8de78e945f0abaf191376122a1563185a90213a26c5da77"
   }
  }
 },
 "nbformat": 4,
 "nbformat_minor": 2
}
