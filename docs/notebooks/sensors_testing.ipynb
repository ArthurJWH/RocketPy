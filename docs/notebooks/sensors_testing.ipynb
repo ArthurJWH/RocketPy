{
 "cells": [
  {
   "attachments": {},
   "cell_type": "markdown",
   "metadata": {
    "colab_type": "text",
    "id": "nvAT8wcRNVEk"
   },
   "source": [
    "# -----------\n",
    "\n",
    "notebook to test sensors... should not be merged"
   ]
  },
  {
   "cell_type": "code",
   "execution_count": null,
   "metadata": {
    "colab": {},
    "colab_type": "code",
    "id": "XGK9M8ecNVEp"
   },
   "outputs": [],
   "source": [
    "import matplotlib.pyplot as plt\n",
    "import numpy as np\n",
    "\n",
    "from rocketpy import Environment, SolidMotor, Rocket, Flight"
   ]
  },
  {
   "cell_type": "code",
   "execution_count": null,
   "metadata": {
    "colab": {},
    "colab_type": "code",
    "id": "uRa566HoNVE9"
   },
   "outputs": [],
   "source": [
    "%matplotlib inline"
   ]
  },
  {
   "cell_type": "code",
   "execution_count": null,
   "metadata": {
    "colab": {},
    "colab_type": "code",
    "id": "5kl-Je8dNVFI"
   },
   "outputs": [],
   "source": [
    "env = Environment(latitude=32.990254, longitude=-106.974998, elevation=1400)\n",
    "env.set_atmospheric_model(\n",
    "    type=\"custom_atmosphere\", wind_u=[(0, 3), (10000, 3)], wind_v=[(0, 5), (10000, -5)]\n",
    ")\n",
    "env.info()"
   ]
  },
  {
   "cell_type": "code",
   "execution_count": null,
   "metadata": {
    "colab": {},
    "colab_type": "code",
    "id": "Vx1dZObwNVFX"
   },
   "outputs": [],
   "source": [
    "Pro75M1670 = SolidMotor(\n",
    "    thrust_source=\"../../data/motors/Cesaroni_M1670.eng\",\n",
    "    dry_mass=1.815,\n",
    "    dry_inertia=(0.125, 0.125, 0.002),\n",
    "    nozzle_radius=33 / 1000,\n",
    "    grain_number=5,\n",
    "    grain_density=1815,\n",
    "    grain_outer_radius=33 / 1000,\n",
    "    grain_initial_inner_radius=15 / 1000,\n",
    "    grain_initial_height=120 / 1000,\n",
    "    grain_separation=5 / 1000,\n",
    "    grains_center_of_mass_position=0.397,\n",
    "    center_of_dry_mass_position=0.317,\n",
    "    nozzle_position=0,\n",
    "    burn_time=3.9,\n",
    "    throat_radius=11 / 1000,\n",
    "    coordinate_system_orientation=\"nozzle_to_combustion_chamber\",\n",
    ")"
   ]
  },
  {
   "cell_type": "code",
   "execution_count": null,
   "metadata": {
    "colab": {},
    "colab_type": "code",
    "id": "D1fyK8u_NVFh"
   },
   "outputs": [],
   "source": [
    "calisto = Rocket(\n",
    "    radius=127 / 2000,\n",
    "    mass=14.426,\n",
    "    inertia=(6.321, 6.321, 0.034),\n",
    "    power_off_drag=\"../../data/calisto/powerOffDragCurve.csv\",\n",
    "    power_on_drag=\"../../data/calisto/powerOnDragCurve.csv\",\n",
    "    center_of_mass_without_motor=0,\n",
    "    coordinate_system_orientation=\"tail_to_nose\",\n",
    ")\n",
    "\n",
    "rail_buttons = calisto.set_rail_buttons(\n",
    "    upper_button_position=0.0818,\n",
    "    lower_button_position=-0.618,\n",
    "    angular_position=45,\n",
    ")\n",
    "\n",
    "calisto.add_motor(Pro75M1670, position=-1.255)\n",
    "\n",
    "nose_cone = calisto.add_nose(length=0.55829, kind=\"vonKarman\", position=1.278)\n",
    "\n",
    "fin_set = calisto.add_trapezoidal_fins(\n",
    "    n=4,\n",
    "    root_chord=0.120,\n",
    "    tip_chord=0.060,\n",
    "    span=0.110,\n",
    "    position=-1.04956,\n",
    "    cant_angle=0.5,\n",
    "    airfoil=(\"../../data/calisto/NACA0012-radians.csv\", \"radians\"),\n",
    ")\n",
    "\n",
    "tail = calisto.add_tail(\n",
    "    top_radius=0.0635, bottom_radius=0.0435, length=0.060, position=-1.194656\n",
    ")"
   ]
  },
  {
   "cell_type": "code",
   "execution_count": null,
   "metadata": {},
   "outputs": [],
   "source": [
    "from rocketpy import Accelerometer, Gyroscope\n",
    "\n",
    "accel_noisy_nosecone = Accelerometer(\n",
    "    sampling_rate=100,\n",
    "    consider_gravity=False,\n",
    "    orientation=(60, 60, 60),\n",
    "    measurement_range=70,\n",
    "    resolution=0.4882,\n",
    "    noise_density=0.05,\n",
    "    random_walk_density=0.02,\n",
    "    constant_bias=1,\n",
    "    operating_temperature=25,\n",
    "    temperature_bias=0.02,\n",
    "    temperature_scale_factor=0.02,\n",
    "    cross_axis_sensitivity=0.02,\n",
    "    name=\"Accelerometer in Nosecone\",\n",
    ")\n",
    "accel_clean_cdm = Accelerometer(\n",
    "    sampling_rate=100,\n",
    "    consider_gravity=False,\n",
    "    orientation=[\n",
    "        [0.25, -0.0581, 0.9665],\n",
    "        [0.433, 0.8995, -0.0581],\n",
    "        [-0.8661, 0.433, 0.25],\n",
    "    ],\n",
    "    name=\"Accelerometer in CDM\",\n",
    ")\n",
    "calisto.add_sensor(accel_noisy_nosecone, 1.278)\n",
    "calisto.add_sensor(accel_clean_cdm, -0.10482544178314143)  # , 127/2000)"
   ]
  },
  {
   "cell_type": "code",
   "execution_count": null,
   "metadata": {},
   "outputs": [],
   "source": [
    "accel_noisy_nosecone.prints.all()\n",
    "accel_clean_cdm.prints.all()  # should have the same rotation matrix"
   ]
  },
  {
   "cell_type": "code",
   "execution_count": null,
   "metadata": {},
   "outputs": [],
   "source": [
    "gyro_clean = Gyroscope(sampling_rate=100)\n",
    "gyro_noisy = Gyroscope(\n",
    "    sampling_rate=100,\n",
    "    orientation=(180, 0, 0),\n",
    "    acceleration_sensitivity=0.02,\n",
    "    measurement_range=70,\n",
    "    resolution=0.4882,\n",
    "    noise_density=0.05,\n",
    "    random_walk_density=0.02,\n",
    "    constant_bias=1,\n",
    "    operating_temperature=25,\n",
    "    temperature_bias=0.02,\n",
    "    temperature_scale_factor=0.02,\n",
    "    cross_axis_sensitivity=0.02,\n",
    ")\n",
    "calisto.add_sensor(gyro_clean, -0.10482544178314143 + 0.5, 127 / 2000)\n",
    "calisto.add_sensor(gyro_noisy, 1.278 - 0.4, 127 / 2000 - 127 / 4000)"
   ]
  },
  {
   "cell_type": "code",
   "execution_count": null,
   "metadata": {},
   "outputs": [],
   "source": [
    "calisto.draw(plane=\"xz\")"
   ]
  },
  {
   "cell_type": "code",
   "execution_count": null,
   "metadata": {},
   "outputs": [],
   "source": [
    "calisto.draw(plane=\"yz\")"
   ]
  },
  {
   "cell_type": "code",
   "execution_count": null,
   "metadata": {},
   "outputs": [],
   "source": [
    "def controller_function(\n",
    "    time, sampling_rate, state, state_history, observed_variables, air_brakes, sensors\n",
    "):\n",
    "    # state = [x, y, z, vx, vy, vz, e0, e1, e2, e3, wx, wy, wz]\n",
    "    altitude_ASL = state[2]\n",
    "    altitude_AGL = altitude_ASL - env.elevation\n",
    "    vx, vy, vz = state[3], state[4], state[5]\n",
    "\n",
    "    # Get winds in x and y directions\n",
    "    wind_x, wind_y = env.wind_velocity_x(altitude_ASL), env.wind_velocity_y(\n",
    "        altitude_ASL\n",
    "    )\n",
    "\n",
    "    # Calculate Mach number\n",
    "    free_stream_speed = ((wind_x - vx) ** 2 + (wind_y - vy) ** 2 + (vz) ** 2) ** 0.5\n",
    "    mach_number = free_stream_speed / env.speed_of_sound(altitude_ASL)\n",
    "\n",
    "    # Get previous state from state_history\n",
    "    previous_state = state_history[-1]\n",
    "    previous_vz = previous_state[5]\n",
    "\n",
    "    # If we wanted to we could get the returned values from observed_variables:\n",
    "    # returned_time, deployment_level, drag_coefficient = observed_variables[-1]\n",
    "\n",
    "    # Check if the rocket has reached burnout\n",
    "    accelerometer = sensors[0]\n",
    "    if accelerometer.measurement[2] > 0:\n",
    "        return None\n",
    "\n",
    "    # If below 1500 meters above ground level, air_brakes are not deployed\n",
    "    if altitude_AGL < 1500:\n",
    "        air_brakes.deployment_level = 0\n",
    "\n",
    "    # Else calculate the deployment level\n",
    "    else:\n",
    "        # Controller logic\n",
    "        new_deployment_level = (\n",
    "            air_brakes.deployment_level + 0.1 * vz + 0.01 * previous_vz**2\n",
    "        )\n",
    "\n",
    "        # Limiting the speed of the air_brakes to 0.2 per second\n",
    "        # Since this function is called every 1/sampling_rate seconds\n",
    "        # the max change in deployment level per call is 0.2/sampling_rate\n",
    "        max_change = 0.2 / sampling_rate\n",
    "        lower_bound = air_brakes.deployment_level - max_change\n",
    "        upper_bound = air_brakes.deployment_level + max_change\n",
    "        new_deployment_level = min(max(new_deployment_level, lower_bound), upper_bound)\n",
    "\n",
    "        air_brakes.deployment_level = new_deployment_level\n",
    "\n",
    "    # Return variables of interest to be saved in the observed_variables list\n",
    "    return (\n",
    "        time,\n",
    "        air_brakes.deployment_level,\n",
    "        air_brakes.drag_coefficient(air_brakes.deployment_level, mach_number),\n",
    "    )"
   ]
  },
  {
   "cell_type": "code",
   "execution_count": null,
   "metadata": {},
   "outputs": [],
   "source": [
    "air_brakes = calisto.add_air_brakes(\n",
    "    drag_coefficient_curve=\"../../data/calisto/air_brakes_cd.csv\",\n",
    "    controller_function=controller_function,\n",
    "    sampling_rate=10,\n",
    "    reference_area=None,\n",
    "    clamp=True,\n",
    "    initial_observed_variables=[0, 0, 0],\n",
    "    override_rocket_drag=False,\n",
    "    name=\"AirBrakes\",\n",
    "    controller_name=\"AirBrakes Controller\",\n",
    ")"
   ]
  },
  {
   "cell_type": "code",
   "execution_count": null,
   "metadata": {},
   "outputs": [],
   "source": [
    "# air_brakes.all_info()"
   ]
  },
  {
   "cell_type": "code",
   "execution_count": null,
   "metadata": {
    "colab": {},
    "colab_type": "code",
    "id": "v__Ud2p2NVFx"
   },
   "outputs": [],
   "source": [
    "test_flight = Flight(\n",
    "    rocket=calisto,\n",
    "    environment=env,\n",
    "    rail_length=5.2,\n",
    "    inclination=85,\n",
    "    heading=0,\n",
    "    time_overshoot=False,\n",
    "    terminate_on_apogee=True,\n",
    ")"
   ]
  },
  {
   "cell_type": "code",
   "execution_count": null,
   "metadata": {},
   "outputs": [],
   "source": [
    "test_flight.altitude()"
   ]
  },
  {
   "cell_type": "code",
   "execution_count": null,
   "metadata": {},
   "outputs": [],
   "source": [
    "# get first column of every row as time from [(time,(ax,ay,az)),...] = a.measured_data\n",
    "time1, ax, ay, az = zip(*accel_noisy_nosecone.measured_data)\n",
    "time2, bx, by, bz = zip(*accel_clean_cdm.measured_data)\n",
    "\n",
    "\n",
    "plt.plot(time1, ax, label=\"Noisy Accelerometer\")\n",
    "plt.plot(time2, bx, label=\"Clean Accelerometer\")\n",
    "plt.xlabel(\"Time (s)\")\n",
    "plt.ylabel(\"Acceleration ax (m/s^2)\")\n",
    "plt.legend()\n",
    "plt.show()\n",
    "\n",
    "plt.plot(time1, ay, label=\"Noisy Accelerometer\")\n",
    "plt.plot(time2, by, label=\"Clean Accelerometer\")\n",
    "plt.xlabel(\"Time (s)\")\n",
    "plt.ylabel(\"Acceleration ay (m/s^2)\")\n",
    "plt.legend()\n",
    "plt.show()\n",
    "\n",
    "plt.plot(time1, az, label=\"Noisy Accelerometer\")\n",
    "plt.plot(time2, bz, label=\"Clean Accelerometer\")\n",
    "plt.xlabel(\"Time (s)\")\n",
    "plt.ylabel(\"Acceleration az (m/s^2)\")\n",
    "plt.legend()\n",
    "plt.show()\n"
   ]
  },
  {
   "cell_type": "code",
   "execution_count": null,
   "metadata": {},
   "outputs": [],
   "source": [
    "# now plot the total acceleration\n",
    "\n",
    "abs_a = (np.array(ax) ** 2 + np.array(ay) ** 2 + np.array(az) ** 2) ** 0.5\n",
    "abs_b = (np.array(bx) ** 2 + np.array(by) ** 2 + np.array(bz) ** 2) ** 0.5\n",
    "plt.plot(time1, abs_a, label=\"noisy\")\n",
    "plt.plot(time2, abs_b, label=\"clean\")\n",
    "plt.xlabel(\"Time (s)\")\n",
    "plt.ylabel(\"Acceleration (m/s^2)\")\n",
    "plt.legend()\n",
    "plt.xlim(0, 10)\n",
    "plt.show()"
   ]
  },
  {
   "cell_type": "code",
   "execution_count": null,
   "metadata": {},
   "outputs": [],
   "source": [
    "time1, wx, wy, wz = zip(*gyro_noisy.measured_data)\n",
    "time2, zx, zy, zz = zip(*gyro_clean.measured_data)\n",
    "\n",
    "plt.plot(time1, wx, label=\"Noisy Gyroscope\")\n",
    "plt.plot(time2, zx, label=\"Clean Gyroscope\")\n",
    "plt.xlabel(\"Time (s)\")\n",
    "plt.ylabel(\"Angular Velocity wx (rad/s)\")\n",
    "plt.legend()\n",
    "plt.show()\n",
    "\n",
    "plt.plot(time1, wy, label=\"Noisy Gyroscope\")\n",
    "plt.plot(time2, zy, label=\"Clean Gyroscope\")\n",
    "plt.xlabel(\"Time (s)\")\n",
    "plt.ylabel(\"Angular Velocity wy (rad/s)\")\n",
    "plt.legend()\n",
    "plt.show()\n",
    "\n",
    "plt.plot(time1, wz, label=\"Noisy Gyroscope\")\n",
    "plt.plot(time2, zz, label=\"Clean Gyroscope\")\n",
    "plt.xlabel(\"Time (s)\")\n",
    "plt.ylabel(\"Angular Velocity wz (rad/s)\")\n",
    "plt.legend()\n",
    "plt.show()\n",
    "\n",
    "# now plot the total angular velocity\n",
    "\n",
    "abs_w = (np.array(wx) ** 2 + np.array(wy) ** 2 + np.array(wz) ** 2) ** 0.5\n",
    "abs_z = (np.array(zx) ** 2 + np.array(zy) ** 2 + np.array(zz) ** 2) ** 0.5\n",
    "plt.plot(time1, abs_w, label=\"noisy\")\n",
    "plt.plot(time2, abs_z, label=\"clean\")\n",
    "plt.xlabel(\"Time (s)\")\n",
    "plt.ylabel(\"Angular Velocity (rad/s)\")\n",
    "plt.legend()\n",
    "plt.xlim(0, 10)\n",
    "plt.show()"
   ]
  },
  {
   "cell_type": "code",
   "execution_count": null,
   "metadata": {},
   "outputs": [],
   "source": []
  }
 ],
 "metadata": {
  "colab": {
   "name": "getting_started.ipynb",
   "provenance": [],
   "toc_visible": true
  },
  "hide_input": false,
  "kernelspec": {
   "display_name": "Python 3.10.0 ('rocketpy_dev')",
   "language": "python",
   "name": "python3"
  },
  "language_info": {
   "codemirror_mode": {
    "name": "ipython",
    "version": 3
   },
   "file_extension": ".py",
   "mimetype": "text/x-python",
   "name": "python",
   "nbconvert_exporter": "python",
   "pygments_lexer": "ipython3",
   "version": "3.10.11"
  },
  "vscode": {
   "interpreter": {
    "hash": "18e93d5347af13ace37d47ea4e2a2ad720f0331bd9cb28f9983f5585f4dfaa5c"
   }
  }
 },
 "nbformat": 4,
 "nbformat_minor": 2
}
